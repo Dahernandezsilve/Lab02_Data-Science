{
 "cells": [
  {
   "cell_type": "markdown",
   "metadata": {},
   "source": [
    "# Universidad del Valle de Guatemala\n",
    "## Facultad de Ingeniería\n",
    "### Departamento de Computación\n",
    "\n",
    "---\n",
    "\n",
    "# Laboratorio 2: Series de Tiempo\n",
    "\n",
    "**Integrantes:**\n",
    "- Diego Alexander Hernández Silvestre, 21270\n",
    "- Linda Inés Jiménez Vides, 21169\n",
    "\n",
    "**Curso:** Data Science  \n",
    "**Sección:** 10  \n",
    "\n",
    "---\n",
    "\n",
    "Guatemala, 1 de agosto de 2024\n"
   ]
  }
 ],
 "metadata": {
  "kernelspec": {
   "display_name": "venv",
   "language": "python",
   "name": "python3"
  },
  "language_info": {
   "codemirror_mode": {
    "name": "ipython",
    "version": 3
   },
   "file_extension": ".py",
   "mimetype": "text/x-python",
   "name": "python",
   "nbconvert_exporter": "python",
   "pygments_lexer": "ipython3",
   "version": "3.11.8"
  }
 },
 "nbformat": 4,
 "nbformat_minor": 2
}
